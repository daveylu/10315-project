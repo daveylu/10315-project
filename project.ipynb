{
 "cells": [
  {
   "attachments": {},
   "cell_type": "markdown",
   "metadata": {},
   "source": [
    "# Intro. ML Final Project\n",
    "\n",
    "By Dave Lu, Alina Chen, Jin Rong Song"
   ]
  },
  {
   "cell_type": "code",
   "execution_count": 1,
   "metadata": {},
   "outputs": [],
   "source": [
    "import pandas as pd\n",
    "import numpy as np\n",
    "import torch\n",
    "import joblib\n",
    "\n",
    "# set this flag to True if you want to train the model (takes under a minute to run the entire notebook on a Ryzen 7 3750H CPU + GTX 1660Ti GPU)\n",
    "# set this flag to False if you do not want to train the model (will download the models and evaluate them)\n",
    "train_models = False\n",
    "\n",
    "# can only save models to local storage if train_models == True\n",
    "save_models = False"
   ]
  },
  {
   "attachments": {},
   "cell_type": "markdown",
   "metadata": {},
   "source": [
    "Loading the data into Numpy arrays. Also downloads the models if we want to simply evaluate the models."
   ]
  },
  {
   "cell_type": "code",
   "execution_count": 2,
   "metadata": {},
   "outputs": [],
   "source": [
    "data = pd.read_csv(\"https://raw.githubusercontent.com/daveylu/10315-project/main/data.csv\")\n",
    "\n",
    "X = data[[\"Variance\", \"Skewness\", \"Curtosis\", \"Entropy\"]]\n",
    "y = data[\"Class\"]\n",
    "\n",
    "X = X.to_numpy()\n",
    "y = y.to_numpy()\n",
    "\n",
    "if(train_models == False):\n",
    "    !curl https://raw.githubusercontent.com/daveylu/10315-project/main/random_forest.joblib --output random_forest.joblib\n",
    "    !curl https://raw.githubusercontent.com/daveylu/10315-project/main/weights.pt --output weights.pt"
   ]
  },
  {
   "attachments": {},
   "cell_type": "markdown",
   "metadata": {},
   "source": [
    "# Random Forest Classifier"
   ]
  },
  {
   "cell_type": "code",
   "execution_count": 3,
   "metadata": {},
   "outputs": [
    {
     "name": "stdout",
     "output_type": "stream",
     "text": [
      "Validation Cross-Entropy Loss: 0.03694115489216537\n",
      "Validation Accuracy: 0.9890909090909091\n",
      "Confusion Matrix:\n"
     ]
    },
    {
     "data": {
      "text/plain": [
       "array([[144,   1],\n",
       "       [  2, 128]], dtype=int64)"
      ]
     },
     "execution_count": 3,
     "metadata": {},
     "output_type": "execute_result"
    }
   ],
   "source": [
    "from sklearn.ensemble import RandomForestClassifier\n",
    "from sklearn.model_selection import train_test_split\n",
    "from sklearn.metrics import log_loss, confusion_matrix\n",
    "\n",
    "test_size = 0.2 # fractional size of the test dataset\n",
    "\n",
    "# randomly splits entire dataset into train and test datasets\n",
    "X_train, X_test, y_train, y_test = train_test_split(X, y, test_size = test_size) \n",
    "\n",
    "# find number of samples in our test dataset\n",
    "N = X_test.shape[0]\n",
    "\n",
    "if(train_models == True):\n",
    "    clf = RandomForestClassifier()              # initialize random forest classifier object\n",
    "    clf.fit(X_train, y_train)                   # fit the classifier to our training dataset\n",
    "\n",
    "    if(save_models == True):\n",
    "        joblib.dump(clf, \"random_forest.joblib\") # saves the random forest classifier to a file\n",
    "\n",
    "else:\n",
    "    clf = joblib.load(\"random_forest.joblib\") # reads the random forest classifier from a file\n",
    "    \n",
    "y_pred_proba = clf.predict_proba(X_test)    # predict the probabilities of the samples in the test dataset being real or counterfeit\n",
    "y_pred = clf.predict(X_test)                # predict the labels of the samples: real or counterfeit\n",
    "loss = log_loss(y_test, y_pred_proba)       # compute cross entropy loss using our predicted probabilities and true labels.\n",
    "accuracy = np.sum(y_test == y_pred) / N     # compute accuracy of our labeling\n",
    "\n",
    "print(f\"Validation Cross-Entropy Loss: {loss}\")\n",
    "print(f\"Validation Accuracy: {accuracy}\")\n",
    "print(\"Confusion Matrix:\")\n",
    "confusion_matrix(y_pred, y_test)"
   ]
  },
  {
   "attachments": {},
   "cell_type": "markdown",
   "metadata": {},
   "source": [
    "# Neural Network"
   ]
  },
  {
   "attachments": {},
   "cell_type": "markdown",
   "metadata": {},
   "source": [
    "Creation of PyTorch dataset"
   ]
  },
  {
   "cell_type": "code",
   "execution_count": 4,
   "metadata": {},
   "outputs": [],
   "source": [
    "from torch.utils.data import Dataset, DataLoader, random_split\n",
    "\n",
    "# need to create copies or else pytorch gets unhappy\n",
    "X_copy = np.copy(X) \n",
    "y_copy = np.copy(y)\n",
    "\n",
    "class BankNotesDataset(Dataset):\n",
    "\n",
    "    def __init__(self):\n",
    "        self.data = torch.tensor(X_copy, dtype = torch.float32)\n",
    "        self.labels = torch.tensor(y_copy, dtype = torch.float32)\n",
    "\n",
    "    def __len__(self):\n",
    "        return X.shape[0]\n",
    "    \n",
    "    def __getitem__(self, index):\n",
    "        return self.data[index], self.labels[index]\n",
    "\n",
    "# randomly splits our dataset into train and validation datasets with corresponding fractional sizes\n",
    "train_dataset, test_dataset = random_split(BankNotesDataset(), [0.8, 0.2])\n",
    "\n",
    "# create dataloader objects for our train and validation datasets\n",
    "train_DL = DataLoader(train_dataset, batch_size = 16, shuffle = True)\n",
    "valid_DL = DataLoader(test_dataset, batch_size = 16, shuffle = True)"
   ]
  },
  {
   "attachments": {},
   "cell_type": "markdown",
   "metadata": {},
   "source": [
    "Creation of PyTorch Neural Net"
   ]
  },
  {
   "cell_type": "code",
   "execution_count": 5,
   "metadata": {},
   "outputs": [],
   "source": [
    "import torch.nn as nn\n",
    "\n",
    "input_dim = X.shape[1] # number of dimensions of our original input sample\n",
    "\n",
    "class NeuralNet(nn.Module):\n",
    "\n",
    "    def __init__(self):\n",
    "        super(NeuralNet, self).__init__()\n",
    "        \n",
    "        self.hidden_layer_1 = nn.Linear(in_features = input_dim, out_features = input_dim * 2)\n",
    "        self.relu = nn.ReLU()\n",
    "        self.hidden_layer_2 = nn.Linear(in_features = input_dim * 2, out_features = input_dim * 3)\n",
    "        self.sigmoid = nn.Sigmoid()\n",
    "        self.hidden_layer_3 = nn.Linear(in_features = input_dim * 3, out_features = input_dim * 3)\n",
    "        self.leaky_relu = nn.LeakyReLU()\n",
    "        self.hidden_layer_4 = nn.Linear(in_features = input_dim * 3, out_features = 1)\n",
    "        self.final_activation = nn.Sigmoid()\n",
    "\n",
    "    def forward(self, x):\n",
    "        output_1 = self.hidden_layer_1(x)\n",
    "        output_2 = self.relu(output_1)\n",
    "        output_3 = self.hidden_layer_2(output_2)\n",
    "        output_4 = self.sigmoid(output_3)\n",
    "        output_5 = self.hidden_layer_3(output_4)\n",
    "        output_6 = self.leaky_relu(output_5)\n",
    "        output_7 = self.hidden_layer_4(output_6)\n",
    "        y_pred = self.final_activation(output_7)\n",
    "\n",
    "        return y_pred\n",
    "\n",
    "# initialize our model with our constructed neural net\n",
    "model = NeuralNet()"
   ]
  },
  {
   "attachments": {},
   "cell_type": "markdown",
   "metadata": {},
   "source": [
    "Creation of Training Loop (~~stolen~~ borrowed from HW7)"
   ]
  },
  {
   "cell_type": "code",
   "execution_count": 6,
   "metadata": {},
   "outputs": [],
   "source": [
    "loss_fn = torch.nn.BCELoss() # use binary cross-entropy loss as our loss function\n",
    "learning_rate = 1e-3\n",
    "device = torch.device(\"cuda\" if torch.cuda.is_available() else \"cpu\")\n",
    "\n",
    "# use Adam optimizer to speed it up (not that it actually needs speeding up)\n",
    "optimizer = torch.optim.Adam(model.parameters(), lr = learning_rate)\n",
    "\n",
    "# code taken from HW7\n",
    "def evaluate_DL(model, dl, loss_fn):\n",
    "    model = model.to(device)\n",
    "    \n",
    "    with torch.no_grad():\n",
    "        lossSum = 0\n",
    "        nCorrect = 0\n",
    "        for X, y in dl:\n",
    "            X = X.to(device)\n",
    "            y = torch.reshape(y, (-1, 1)) # must reshape, as the loss function requires a 2D column vector, not a 1D vector\n",
    "            y = y.to(device)\n",
    "            yhat = model(X)\n",
    "\n",
    "            lossSum += loss_fn(yhat, y) * X.shape[0]\n",
    "\n",
    "            predictions = torch.where(yhat > 0.5, 1, 0)\n",
    "            truth = torch.where(y > 0.5, 1, 0)\n",
    "            nCorrect += torch.sum(predictions == truth)\n",
    "\n",
    "        numSamples = len(dl.dataset)\n",
    "        avgLoss = lossSum / numSamples\n",
    "        acc = nCorrect / numSamples\n",
    "    return avgLoss.item(), acc.item()\n",
    "\n",
    "# code taken from HW7\n",
    "def evaluate(model, trainDL, validDL, lossfn):\n",
    "    trainLoss, trainAcc = evaluate_DL(model, trainDL, lossfn)\n",
    "    validLoss, validAcc = evaluate_DL(model, validDL, lossfn)\n",
    "    return trainLoss, trainAcc, validLoss, validAcc\n",
    "\n",
    "# code taken from HW7\n",
    "def train(model, trainDL, validDL, loss_fn, opt, epochs = 10):\n",
    "    trainLosses = []\n",
    "    trainAccs   = []\n",
    "    validLosses = []\n",
    "    validAccs   = []\n",
    "\n",
    "    trainLoss, trainAcc, validLoss, validAcc = evaluate(model, trainDL, validDL, loss_fn)\n",
    "    trainLosses.append(trainLoss)\n",
    "    trainAccs.append(trainAcc)\n",
    "    validLosses.append(validLoss)\n",
    "    validAccs.append(validAcc)\n",
    "\n",
    "    model = model.to(device)\n",
    "    for e in range(epochs):\n",
    "        for X, y in trainDL:\n",
    "            X = X.to(device)\n",
    "            y = torch.reshape(y, (-1, 1)) # must reshape, as the loss function requires a 2D column vector, not a 1D vector\n",
    "            y = y.to(device)\n",
    "\n",
    "            y_pred = model(X)\n",
    "            loss = loss_fn(y_pred, y)\n",
    "\n",
    "            opt.zero_grad()\n",
    "            loss.backward()\n",
    "            opt.step()\n",
    "\n",
    "        trainLoss, trainAcc, validLoss, validAcc = evaluate(model, trainDL, validDL, loss_fn)\n",
    "        trainLosses.append(trainLoss)\n",
    "        trainAccs.append(trainAcc)\n",
    "        validLosses.append(validLoss)\n",
    "        validAccs.append(validAcc)\n",
    "\n",
    "    return model, trainLosses, trainAccs, validLosses, validAccs"
   ]
  },
  {
   "attachments": {},
   "cell_type": "markdown",
   "metadata": {},
   "source": [
    "Creation of Plotting Code (~~stolen~~ borrowed from HW7)"
   ]
  },
  {
   "cell_type": "code",
   "execution_count": 7,
   "metadata": {},
   "outputs": [],
   "source": [
    "import matplotlib.pyplot as plt\n",
    "\n",
    "# code taken from HW7\n",
    "def plot_statistics(epochs, trainLosses, trainAccs, validLosses, validAccs):\n",
    "    fig, axes = plt.subplots(1,2)\n",
    "    xdata = np.arange(epochs+1)\n",
    "    \n",
    "    # plot the losses\n",
    "    axis = axes[0]\n",
    "    axis.plot(xdata, trainLosses, label=\"Train\")\n",
    "    axis.plot(xdata, validLosses, label=\"Valid\")\n",
    "    axis.set_xlabel(\"# Epochs\")\n",
    "    axis.set_ylabel(\"Average Loss\")\n",
    "    axis.set_title(\"Cross-Entropy Loss per Epoch\")\n",
    "    axis.grid()\n",
    "    axis.legend()\n",
    "    \n",
    "    # plot the accuracies\n",
    "    axis = axes[1]\n",
    "    axis.plot(xdata, trainAccs, label=\"Train\")\n",
    "    axis.plot(xdata, validAccs, label=\"Valid\")\n",
    "    axis.set_xlabel(\"# Epochs\")\n",
    "    axis.set_ylabel(\"Accuracy\")\n",
    "    axis.set_title(\"Accuracy per Epoch\")\n",
    "    axis.grid()\n",
    "    axis.legend()    "
   ]
  },
  {
   "attachments": {},
   "cell_type": "markdown",
   "metadata": {},
   "source": [
    "Training the Neural Net and Plotting Results"
   ]
  },
  {
   "cell_type": "code",
   "execution_count": 8,
   "metadata": {},
   "outputs": [
    {
     "data": {
      "image/png": "[encoded data removed]",
      "text/plain": [
       "<Figure size 640x480 with 2 Axes>"
      ]
     },
     "metadata": {},
     "output_type": "display_data"
    }
   ],
   "source": [
    "if(train_models == True):\n",
    "    epochs = 15\n",
    "    # train our neural network\n",
    "    model, trainLosses, trainAccs, validLosses, validAccs = train(model, train_DL, valid_DL, loss_fn, optimizer, epochs = epochs)\n",
    "\n",
    "    if(save_models == True):\n",
    "        torch.save(model.state_dict(), \"weights.pt\") # saves our neural net weights into a file\n",
    "\n",
    "    # plot how our neural network progressed over time\n",
    "    plot_statistics(epochs, trainLosses, trainAccs, validLosses, validAccs)\n",
    "\n",
    "else:\n",
    "    model.load_state_dict(torch.load(\"weights.pt\", map_location = device))     # loads our neural net weights into the neural net\n",
    "    model.eval()                                        # puts our neural net into evaluation mode\n",
    "\n",
    "    trainLoss, trainAcc, validLoss, validAcc = evaluate(model, train_DL, valid_DL, loss_fn)\n",
    "    validLosses = [validLoss]\n",
    "    validAccs = [validAcc]"
   ]
  },
  {
   "cell_type": "code",
   "execution_count": 9,
   "metadata": {},
   "outputs": [
    {
     "name": "stdout",
     "output_type": "stream",
     "text": [
      "Validation Cross-Entropy Loss: 0.00943012535572052\n",
      "Validation Accuracy: 1.0\n"
     ]
    }
   ],
   "source": [
    "print(f\"Validation Cross-Entropy Loss: {validLosses[-1]}\")\n",
    "print(f\"Validation Accuracy: {validAccs[-1]}\")"
   ]
  }
 ],
 "metadata": {
  "kernelspec": {
   "display_name": "py3.9",
   "language": "python",
   "name": "python3"
  },
  "language_info": {
   "codemirror_mode": {
    "name": "ipython",
    "version": 3
   },
   "file_extension": ".py",
   "mimetype": "text/x-python",
   "name": "python",
   "nbconvert_exporter": "python",
   "pygments_lexer": "ipython3",
   "version": "3.9.16"
  },
  "orig_nbformat": 4
 },
 "nbformat": 4,
 "nbformat_minor": 2
}
