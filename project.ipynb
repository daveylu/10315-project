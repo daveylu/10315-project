{
 "cells": [
  {
   "attachments": {},
   "cell_type": "markdown",
   "metadata": {},
   "source": [
    "# Intro. ML Final Project\n",
    "\n",
    "By Dave Lu, Alina Chen, Jin Rong Song"
   ]
  },
  {
   "cell_type": "code",
   "execution_count": null,
   "metadata": {},
   "outputs": [],
   "source": [
    "import pandas as pd\n",
    "import numpy as np\n",
    "import torch"
   ]
  },
  {
   "attachments": {},
   "cell_type": "markdown",
   "metadata": {},
   "source": [
    "Loading the data into Numpy arrays."
   ]
  },
  {
   "cell_type": "code",
   "execution_count": 1,
   "metadata": {},
   "outputs": [],
   "source": [
    "data = pd.read_csv(\"https://raw.githubusercontent.com/daveylu/10315-project/main/data.csv\")\n",
    "\n",
    "X = data[[\"Variance\", \"Skewness\", \"Curtosis\", \"Entropy\"]]\n",
    "y = data[\"Class\"]\n",
    "\n",
    "X = X.to_numpy()\n",
    "y = y.to_numpy()"
   ]
  },
  {
   "attachments": {},
   "cell_type": "markdown",
   "metadata": {},
   "source": [
    "# Random Forest Classifier"
   ]
  },
  {
   "cell_type": "code",
   "execution_count": 2,
   "metadata": {},
   "outputs": [
    {
     "name": "stdout",
     "output_type": "stream",
     "text": [
      "0.027348071787683288\n",
      "0.9963636363636363\n"
     ]
    }
   ],
   "source": [
    "from sklearn.ensemble import RandomForestClassifier\n",
    "from sklearn.model_selection import train_test_split\n",
    "from sklearn.metrics import log_loss\n",
    "\n",
    "test_size = 0.2\n",
    "\n",
    "X_train, X_test, y_train, y_test = train_test_split(X, y, test_size = test_size)\n",
    "\n",
    "N = X_test.shape[0]\n",
    "\n",
    "clf = RandomForestClassifier()\n",
    "clf.fit(X_train, y_train)\n",
    "y_pred_proba = clf.predict_proba(X_test)\n",
    "y_pred = clf.predict(X_test)\n",
    "loss = log_loss(y_test, y_pred_proba)\n",
    "accuracy = np.sum(y_test == y_pred) / N\n",
    "\n",
    "print(loss)\n",
    "print(accuracy)"
   ]
  },
  {
   "attachments": {},
   "cell_type": "markdown",
   "metadata": {},
   "source": [
    "# Neural Network"
   ]
  },
  {
   "attachments": {},
   "cell_type": "markdown",
   "metadata": {},
   "source": [
    "Creation of PyTorch dataset"
   ]
  },
  {
   "cell_type": "code",
   "execution_count": null,
   "metadata": {},
   "outputs": [],
   "source": [
    "from torch.utils.data import Dataset\n",
    "\n",
    "class BankNotesDataset(Dataset):\n",
    "\n",
    "    def __init__(self):\n",
    "        self.data = X\n",
    "        self.labels = y\n",
    "\n",
    "    def __len__(self):\n",
    "        return X.shape[0]\n",
    "    \n",
    "    def __getitem__(self, index):\n",
    "        return X[index], y[index]"
   ]
  },
  {
   "attachments": {},
   "cell_type": "markdown",
   "metadata": {},
   "source": [
    "Creation of PyTorch Neural Net"
   ]
  },
  {
   "cell_type": "code",
   "execution_count": null,
   "metadata": {},
   "outputs": [],
   "source": [
    "import torch.nn as nn\n",
    "\n",
    "input_dim = X.shape[1]\n",
    "\n",
    "class NeuralNet(nn.Module):\n",
    "\n",
    "    def __init__(self):\n",
    "        super(NeuralNet, self).__init__()\n",
    "        \n",
    "        self.hidden_layer_1 = nn.Linear(in_features = input_dim, out_features = input_dim)\n",
    "        self.relu = nn.ReLu()\n",
    "        self.hidden_layer_2 = nn.Linear(in_features = input_dim, out_features = 1)\n",
    "        self.final_activation = nn.Sigmoid()\n",
    "\n",
    "    def forward(self, x):\n",
    "        output_1 = self.hidden_layer_1(x)\n",
    "        output_2 = self.relu(output_1)\n",
    "        output_3 = self.hidden_layer_2(output_2)\n",
    "        y_pred = self.final_activation(output_3)\n",
    "\n",
    "        return y_pred\n",
    "\n",
    "model = NeuralNet()"
   ]
  },
  {
   "attachments": {},
   "cell_type": "markdown",
   "metadata": {},
   "source": [
    "Creation of Training Loop"
   ]
  },
  {
   "cell_type": "code",
   "execution_count": null,
   "metadata": {},
   "outputs": [],
   "source": [
    "from torch.utils.data import DataLoader, random_split\n",
    "\n",
    "loss_fn = torch.nn.BCELoss()\n",
    "learning_rate = 1e-3\n",
    "device = torch.device(\"cuda\" if torch.cuda.is_available() else \"cpu\")\n",
    "\n",
    "optimizer = torch.optim.Adam(model.parameters(), lr = learning_rate)\n",
    "train_dataset, test_dataset = random_split(BankNotesDataset(), [0.8, 0.2])\n",
    "train_DL = DataLoader(train_dataset, batch_size = 16, shuffle = True)\n",
    "test_DL = DataLoader(test_dataset, batch_size = 16, shuffle = True)\n",
    "\n",
    "\n",
    "def evaluate_DL(model, dl, loss_fn):\n",
    "    model = model.to(device)\n",
    "    \n",
    "    with torch.no_grad():\n",
    "        lossSum = 0\n",
    "        nCorrect = 0\n",
    "        for x, y in dl:\n",
    "            x = x.to(device)\n",
    "            y = y.to(device)\n",
    "\n",
    "            yhat = model(x)\n",
    "\n",
    "            lossSum += loss_fn(yhat, y) * x.shape[0]\n",
    "\n",
    "            predictions = torch.where(yhat > 0.5, 1, 0)\n",
    "            truth = torch.where(y > 0.5, 1, 0)\n",
    "            nCorrect += torch.sum(predictions == truth)\n",
    "\n",
    "        numSamples = len(dl.dataset)\n",
    "        avgLoss = lossSum / numSamples\n",
    "        acc = nCorrect / numSamples\n",
    "    return avgLoss.item(), acc.item()\n",
    "\n",
    "def evaluate(model, trainDL, validDL, lossfn):\n",
    "    trainLoss, trainAcc = evaluate_DL(model, trainDL, lossfn)\n",
    "    validLoss, validAcc = evaluate_DL(model, validDL, lossfn)\n",
    "    return trainLoss, trainAcc, validLoss, validAcc\n",
    "\n",
    "def train(model, trainDL, validDL,  loss_fn, opt, epochs = 10):\n",
    "    trainLosses = []\n",
    "    trainAccs   = []\n",
    "    validLosses = []\n",
    "    validAccs   = []\n",
    "\n",
    "    trainLoss, trainAcc, validLoss, validAcc = evaluate(model, trainDL, validDL, lossfn)\n",
    "    trainLosses.append(trainLoss)\n",
    "    trainAccs.append(trainAcc)\n",
    "    validLosses.append(validLoss)\n",
    "    validAccs.append(validAcc)\n",
    "\n",
    "    model = model.to(device)\n",
    "    for e in range(epochs):\n",
    "        for X, y in trainDL:\n",
    "            X = X.to(device)\n",
    "            y = y.to(device)\n",
    "\n",
    "            y_pred = model(X)\n",
    "            loss = loss_fn(y_pred, y)\n",
    "\n",
    "            opt.zero_grad()\n",
    "            loss.backward()\n",
    "            opt.step()\n",
    "\n",
    "        trainLoss, trainAcc, validLoss, validAcc = evaluate(model, trainDL, validDL, lossfn)\n",
    "        trainLosses.append(trainLoss)\n",
    "        trainAccs.append(trainAcc)\n",
    "        validLosses.append(validLoss)\n",
    "        validAccs.append(validAcc)\n",
    "\n",
    "    return model, trainLosses, trainAccs, validLosses, validAccs"
   ]
  },
  {
   "attachments": {},
   "cell_type": "markdown",
   "metadata": {},
   "source": [
    "Creation of Plotting Code (~~stolen~~ borrowed from HW7)"
   ]
  }
 ],
 "metadata": {
  "kernelspec": {
   "display_name": "py3.9",
   "language": "python",
   "name": "python3"
  },
  "language_info": {
   "codemirror_mode": {
    "name": "ipython",
    "version": 3
   },
   "file_extension": ".py",
   "mimetype": "text/x-python",
   "name": "python",
   "nbconvert_exporter": "python",
   "pygments_lexer": "ipython3",
   "version": "3.9.16"
  },
  "orig_nbformat": 4
 },
 "nbformat": 4,
 "nbformat_minor": 2
}
